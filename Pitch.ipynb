{
  "nbformat": 4,
  "nbformat_minor": 0,
  "metadata": {
    "colab": {
      "name": "Pitch.ipynb",
      "provenance": [],
      "collapsed_sections": [],
      "authorship_tag": "ABX9TyM+TcMeOGGhtBiRSUOmwFtH",
      "include_colab_link": true
    },
    "kernelspec": {
      "name": "python3",
      "display_name": "Python 3"
    },
    "language_info": {
      "name": "python"
    }
  },
  "cells": [
    {
      "cell_type": "markdown",
      "metadata": {
        "id": "view-in-github",
        "colab_type": "text"
      },
      "source": [
        "<a href=\"https://colab.research.google.com/github/Pernach/PythonProjects/blob/main/Pitch.ipynb\" target=\"_parent\"><img src=\"https://colab.research.google.com/assets/colab-badge.svg\" alt=\"Open In Colab\"/></a>"
      ]
    },
    {
      "cell_type": "code",
      "metadata": {
        "id": "L9cTW5cN2Dy-"
      },
      "source": [
        "# Импортируем библиотеки\n",
        "import pandas as pd\n",
        "import numpy as np\n",
        "import matplotlib.pyplot as plt\n",
        "import seaborn as sns\n",
        "import torch\n",
        "from torch import lstm "
      ],
      "execution_count": 1,
      "outputs": []
    },
    {
      "cell_type": "code",
      "metadata": {
        "colab": {
          "base_uri": "https://localhost:8080/"
        },
        "id": "qIGIz3T_IjjQ",
        "outputId": "5368cd2b-a93b-4e60-a77c-c7c3223ea89b"
      },
      "source": [
        "H = torch.tensor([[1], [0]])\n",
        "omega = 0.6\n",
        "betta = 0.98*omega\n",
        "alpha = 0.21*betta\n",
        "F = torch.tensor([[0, 1], [-(alpha**2 + betta**2), -2*alpha]])\n",
        "A_max = 1.8\n",
        "#sigma = A_max/3\n",
        "sigma = 0.5\n",
        "G = torch.tensor([[0, sigma*np.sqrt(4*alpha*(alpha**2 + betta**2))]])\n",
        "P = torch.tensor([[sigma**2, 0], [0, (sigma**2)/(alpha**2 + betta**2)]])\n",
        "P"
      ],
      "execution_count": 2,
      "outputs": [
        {
          "output_type": "execute_result",
          "data": {
            "text/plain": [
              "tensor([[0.2500, 0.0000],\n",
              "        [0.0000, 0.6925]])"
            ]
          },
          "metadata": {},
          "execution_count": 2
        }
      ]
    },
    {
      "cell_type": "code",
      "metadata": {
        "colab": {
          "base_uri": "https://localhost:8080/"
        },
        "id": "c7ahlPFaIp2-",
        "outputId": "d3fc0ce1-3ac2-4643-a8aa-80326ca54909"
      },
      "source": [
        "dt = 0.05\n",
        "Fd = torch.eye(2,2) + F*dt\n",
        "Gd = (G*dt).T\n",
        "Gd"
      ],
      "execution_count": 3,
      "outputs": [
        {
          "output_type": "execute_result",
          "data": {
            "text/plain": [
              "tensor([[0.0000],\n",
              "        [0.0106]], dtype=torch.float64)"
            ]
          },
          "metadata": {},
          "execution_count": 3
        }
      ]
    },
    {
      "cell_type": "code",
      "metadata": {
        "id": "UM4IXAZO3dd7"
      },
      "source": [
        "# Создадим выборки\n",
        "# Для начала одну большую обучающую\n",
        "#x0 = torch.normal(mean = 0.0, std = 1.0, size = (2,1))\n",
        "x0 = (torch.sqrt(P)).double().mm(torch.normal(mean = 0.0, std = 1.0, size = (2,1)).double())\n",
        "X_for_train = torch.normal(mean = 0.0, std = 1.0, size = (1,80000))\n",
        "w = torch.normal(mean = 0.0, std = 1/np.sqrt(dt), size = (1,80000))"
      ],
      "execution_count": 4,
      "outputs": []
    },
    {
      "cell_type": "code",
      "source": [
        "R = 10e-10\n",
        "Rd = R/dt\n",
        "Rd"
      ],
      "metadata": {
        "colab": {
          "base_uri": "https://localhost:8080/"
        },
        "id": "1q9BHOdjiVJh",
        "outputId": "f5cf87ce-0d80-4e18-9091-157190c638fe"
      },
      "execution_count": 5,
      "outputs": [
        {
          "output_type": "execute_result",
          "data": {
            "text/plain": [
              "2e-08"
            ]
          },
          "metadata": {},
          "execution_count": 5
        }
      ]
    },
    {
      "cell_type": "code",
      "source": [
        "x_tr = torch.zeros(2,len(w[0]))\n",
        "x_tr[:,0] = x0.T\n",
        "for i in range(1,len(w[0])):\n",
        "  l = torch.tensor([[x_tr[0,(i-1)]],[x_tr[1,(i-1)]]]) \n",
        "  s = Fd.double().mm(l.double())  \n",
        "  k = Gd.double() * w[:,i]\n",
        "  x_tr[:,i] = (s + k).T\n",
        "  "
      ],
      "metadata": {
        "id": "2Pre7Gjvpd0h"
      },
      "execution_count": 6,
      "outputs": []
    },
    {
      "cell_type": "code",
      "metadata": {
        "id": "2YZZRcrX7D7p"
      },
      "source": [
        "def discretize_F(F, G, dt):\n",
        "  result1 = torch.eye(2,2) + F*dt\n",
        "  result2 = (G*dt).T\n",
        "  return result1, result2"
      ],
      "execution_count": 2,
      "outputs": []
    },
    {
      "cell_type": "code",
      "metadata": {
        "id": "nDxPQvTW4Ta-"
      },
      "source": [
        "# Определим фильтр\n",
        "def Filter_d(array, alpha, betta, sigma, dt, R):\n",
        "  F = torch.tensor([[0, 1], [-(alpha**2 + betta**2), -2*alpha]]) # матрица динамики\n",
        "  G = torch.tensor([[0, sigma*np.sqrt(4*alpha*(alpha**2 + betta**2))]]) # Матрица порождающих шумов\n",
        "  H = torch.tensor([[1], [0]]) # Матрица состояния\n",
        "  Fd, Gd = discretize_F(F, G, dt) # Дискретизация первого порядка (достаточно для этого времени дискретизации в сравнении с периодом качки)\n",
        "  P = torch.tensor([[sigma**2, 0], [0, (sigma**2)/(alpha**2 + betta**2)]]) # Начальное состояние фильтра\n",
        "  Rd = R/dt\n",
        "  res0 = (torch.sqrt(P)).double().mm(torch.normal(mean = 0.0, std = 1.0, size = (2,1)).double()) #Первое значение\n",
        "  #w = torch.normal(mean = 0.0, std = 1/np.sqrt(dt), size = (1,len(array[0])))\n",
        "  result = torch.zeros(2,len(array[0]))\n",
        "  result[:,0] = res0.T\n",
        "  for i in range(1,len(array[0])):\n",
        "    l = torch.tensor([[result[0,(i-1)]],[result[1,(i-1)]]]) \n",
        "    s = Fd.double().mm(l.double())  \n",
        "    k = Gd.double() * array[:,i]\n",
        "    result[:,i] = (s + k).T\n",
        "  return result"
      ],
      "execution_count": 5,
      "outputs": []
    },
    {
      "cell_type": "code",
      "metadata": {
        "id": "hYtrEthY7Iri"
      },
      "source": [
        "omega = 0.6\n",
        "dt = 0.05\n",
        "w = torch.normal(mean = 0.0, std = 1/np.sqrt(dt), size = (1,80000))\n",
        "xx = Filter_d(w, 0.21*0.98*omega, 0.98*omega, 0.5, dt, 10e-10)"
      ],
      "execution_count": 8,
      "outputs": []
    },
    {
      "cell_type": "code",
      "source": [
        "plt.plot(xx[0,4000:5000])"
      ],
      "metadata": {
        "colab": {
          "base_uri": "https://localhost:8080/",
          "height": 282
        },
        "id": "gcT9YsRjpQD0",
        "outputId": "4ffb3ab8-fafb-47cd-f67d-118ba790b559"
      },
      "execution_count": 9,
      "outputs": [
        {
          "output_type": "execute_result",
          "data": {
            "text/plain": [
              "[<matplotlib.lines.Line2D at 0x7f90b42dc910>]"
            ]
          },
          "metadata": {},
          "execution_count": 9
        },
        {
          "output_type": "display_data",
          "data": {
            "text/plain": [
              "<Figure size 432x288 with 1 Axes>"
            ],
            "image/png": "[encoded data removed]"
          },
          "metadata": {
            "needs_background": "light"
          }
        }
      ]
    }
  ]
}