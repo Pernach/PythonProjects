{
  "nbformat": 4,
  "nbformat_minor": 0,
  "metadata": {
    "colab": {
      "name": "Pitch.ipynb",
      "provenance": [],
      "collapsed_sections": [],
      "authorship_tag": "ABX9TyOIHvq9lVKAmp9LRegUtSxc",
      "include_colab_link": true
    },
    "kernelspec": {
      "name": "python3",
      "display_name": "Python 3"
    },
    "language_info": {
      "name": "python"
    }
  },
  "cells": [
    {
      "cell_type": "markdown",
      "metadata": {
        "id": "view-in-github",
        "colab_type": "text"
      },
      "source": [
        "<a href=\"https://colab.research.google.com/github/Pernach/PythonProjects/blob/main/Pitch.ipynb\" target=\"_parent\"><img src=\"https://colab.research.google.com/assets/colab-badge.svg\" alt=\"Open In Colab\"/></a>"
      ]
    },
    {
      "cell_type": "code",
      "metadata": {
        "id": "L9cTW5cN2Dy-"
      },
      "source": [
        "# Импортируем библиотеки\n",
        "import pandas as pd\n",
        "import numpy as np\n",
        "import matplotlib.pyplot as plt\n",
        "import seaborn as sns\n",
        "import torch\n",
        "from torch import lstm "
      ],
      "execution_count": 1,
      "outputs": []
    },
    {
      "cell_type": "code",
      "metadata": {
        "id": "2YZZRcrX7D7p"
      },
      "source": [
        "def discretize_F(F, G, dt):\n",
        "  result1 = torch.eye(2,2) + F*dt\n",
        "  result2 = (G*dt).T\n",
        "  return result1, result2"
      ],
      "execution_count": 2,
      "outputs": []
    },
    {
      "cell_type": "code",
      "metadata": {
        "id": "nDxPQvTW4Ta-"
      },
      "source": [
        "# Определим фильтр\n",
        "def Filter_d(array, alpha, betta, sigma, dt, R):\n",
        "  F = torch.tensor([[0, 1], [-(alpha**2 + betta**2), -2*alpha]]) # матрица динамики\n",
        "  G = torch.tensor([[0, sigma*np.sqrt(4*alpha*(alpha**2 + betta**2))]]) # Матрица порождающих шумов\n",
        "  H = torch.tensor([[1], [0]]) # Матрица состояния\n",
        "  Fd, Gd = discretize_F(F, G, dt) # Дискретизация первого порядка (достаточно для этого времени дискретизации в сравнении с периодом качки)\n",
        "  P = torch.tensor([[sigma**2, 0], [0, (sigma**2)/(alpha**2 + betta**2)]]) # Начальное состояние фильтра\n",
        "  Rd = R/dt\n",
        "  res0 = (torch.sqrt(P)).double().mm(torch.normal(mean = 0.0, std = 1.0, size = (2,1)).double()) #Первое значение\n",
        "  #w = torch.normal(mean = 0.0, std = 1/np.sqrt(dt), size = (1,len(array[0])))\n",
        "  result = torch.zeros(2,len(array[0]))\n",
        "  result[:,0] = res0.T\n",
        "  for i in range(1,len(array[0])):\n",
        "    l = torch.tensor([[result[0,(i-1)]],[result[1,(i-1)]]]) \n",
        "    s = Fd.double().mm(l.double())  \n",
        "    k = Gd.double() * array[:,i]\n",
        "    result[:,i] = (s + k).T\n",
        "  return result"
      ],
      "execution_count": 3,
      "outputs": []
    },
    {
      "cell_type": "code",
      "metadata": {
        "id": "hYtrEthY7Iri"
      },
      "source": [
        "omega = 0.6\n",
        "dt = 0.05\n",
        "w = torch.normal(mean = 0.0, std = 1/np.sqrt(dt), size = (1,80000))\n",
        "xx = Filter_d(w, 0.21*0.98*omega, 0.98*omega, 0.5, dt, 10e-10)"
      ],
      "execution_count": 4,
      "outputs": []
    },
    {
      "cell_type": "code",
      "source": [
        "plt.plot(xx[0,4000:5000])"
      ],
      "metadata": {
        "colab": {
          "base_uri": "https://localhost:8080/",
          "height": 283
        },
        "id": "gcT9YsRjpQD0",
        "outputId": "57a1841f-2ef9-46fb-ffbd-6450f7d6441c"
      },
      "execution_count": 5,
      "outputs": [
        {
          "output_type": "execute_result",
          "data": {
            "text/plain": [
              "[<matplotlib.lines.Line2D at 0x7f250aa1fe90>]"
            ]
          },
          "metadata": {},
          "execution_count": 5
        },
        {
          "output_type": "display_data",
          "data": {
            "text/plain": [
              "<Figure size 432x288 with 1 Axes>"
            ],
            "image/png": "[encoded data removed]"
          },
          "metadata": {
            "needs_background": "light"
          }
        }
      ]
    }
  ]
}